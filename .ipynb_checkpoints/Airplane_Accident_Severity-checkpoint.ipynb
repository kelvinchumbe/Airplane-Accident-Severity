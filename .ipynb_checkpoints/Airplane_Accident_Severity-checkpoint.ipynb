{
 "cells": [
  {
   "cell_type": "code",
   "execution_count": 319,
   "metadata": {},
   "outputs": [],
   "source": [
    "# import the required dependancies\n",
    "import numpy as np\n",
    "import pandas as pd\n",
    "import matplotlib.pyplot as plt\n",
    "import seaborn as sns\n",
    "sns.set()\n",
    "\n",
    "%matplotlib inline"
   ]
  },
  {
   "cell_type": "code",
   "execution_count": 320,
   "metadata": {},
   "outputs": [],
   "source": [
    "# Set display options\n",
    "pd.set_option('display.max_columns', 300)\n",
    "pd.set_option('display.max_rows', 300)"
   ]
  },
  {
   "cell_type": "code",
   "execution_count": 416,
   "metadata": {},
   "outputs": [],
   "source": [
    "# read in the data\n",
    "accidents = pd.read_csv(\"C:\\\\Users\\\\Kelvin Kinda\\\\Downloads\\\\Hackerearth_dataset\\\\train.csv\")"
   ]
  },
  {
   "cell_type": "code",
   "execution_count": 417,
   "metadata": {},
   "outputs": [
    {
     "data": {
      "text/html": [
       "<div>\n",
       "<style scoped>\n",
       "    .dataframe tbody tr th:only-of-type {\n",
       "        vertical-align: middle;\n",
       "    }\n",
       "\n",
       "    .dataframe tbody tr th {\n",
       "        vertical-align: top;\n",
       "    }\n",
       "\n",
       "    .dataframe thead th {\n",
       "        text-align: right;\n",
       "    }\n",
       "</style>\n",
       "<table border=\"1\" class=\"dataframe\">\n",
       "  <thead>\n",
       "    <tr style=\"text-align: right;\">\n",
       "      <th></th>\n",
       "      <th>Severity</th>\n",
       "      <th>Safety_Score</th>\n",
       "      <th>Days_Since_Inspection</th>\n",
       "      <th>Total_Safety_Complaints</th>\n",
       "      <th>Control_Metric</th>\n",
       "      <th>Turbulence_In_gforces</th>\n",
       "      <th>Cabin_Temperature</th>\n",
       "      <th>Accident_Type_Code</th>\n",
       "      <th>Max_Elevation</th>\n",
       "      <th>Violations</th>\n",
       "      <th>Adverse_Weather_Metric</th>\n",
       "      <th>Accident_ID</th>\n",
       "    </tr>\n",
       "  </thead>\n",
       "  <tbody>\n",
       "    <tr>\n",
       "      <th>0</th>\n",
       "      <td>Minor_Damage_And_Injuries</td>\n",
       "      <td>49.223744</td>\n",
       "      <td>14</td>\n",
       "      <td>22</td>\n",
       "      <td>71.285324</td>\n",
       "      <td>0.272118</td>\n",
       "      <td>78.04</td>\n",
       "      <td>2</td>\n",
       "      <td>31335.476824</td>\n",
       "      <td>3</td>\n",
       "      <td>0.424352</td>\n",
       "      <td>7570</td>\n",
       "    </tr>\n",
       "    <tr>\n",
       "      <th>1</th>\n",
       "      <td>Minor_Damage_And_Injuries</td>\n",
       "      <td>62.465753</td>\n",
       "      <td>10</td>\n",
       "      <td>27</td>\n",
       "      <td>72.288058</td>\n",
       "      <td>0.423939</td>\n",
       "      <td>84.54</td>\n",
       "      <td>2</td>\n",
       "      <td>26024.711057</td>\n",
       "      <td>2</td>\n",
       "      <td>0.352350</td>\n",
       "      <td>12128</td>\n",
       "    </tr>\n",
       "    <tr>\n",
       "      <th>2</th>\n",
       "      <td>Significant_Damage_And_Fatalities</td>\n",
       "      <td>63.059361</td>\n",
       "      <td>13</td>\n",
       "      <td>16</td>\n",
       "      <td>66.362808</td>\n",
       "      <td>0.322604</td>\n",
       "      <td>78.86</td>\n",
       "      <td>7</td>\n",
       "      <td>39269.053927</td>\n",
       "      <td>3</td>\n",
       "      <td>0.003364</td>\n",
       "      <td>2181</td>\n",
       "    </tr>\n",
       "    <tr>\n",
       "      <th>3</th>\n",
       "      <td>Significant_Damage_And_Serious_Injuries</td>\n",
       "      <td>48.082192</td>\n",
       "      <td>11</td>\n",
       "      <td>9</td>\n",
       "      <td>74.703737</td>\n",
       "      <td>0.337029</td>\n",
       "      <td>81.79</td>\n",
       "      <td>3</td>\n",
       "      <td>42771.499200</td>\n",
       "      <td>1</td>\n",
       "      <td>0.211728</td>\n",
       "      <td>5946</td>\n",
       "    </tr>\n",
       "    <tr>\n",
       "      <th>4</th>\n",
       "      <td>Significant_Damage_And_Fatalities</td>\n",
       "      <td>26.484018</td>\n",
       "      <td>13</td>\n",
       "      <td>25</td>\n",
       "      <td>47.948952</td>\n",
       "      <td>0.541140</td>\n",
       "      <td>77.16</td>\n",
       "      <td>3</td>\n",
       "      <td>35509.228515</td>\n",
       "      <td>2</td>\n",
       "      <td>0.176883</td>\n",
       "      <td>9054</td>\n",
       "    </tr>\n",
       "  </tbody>\n",
       "</table>\n",
       "</div>"
      ],
      "text/plain": [
       "                                  Severity  Safety_Score  \\\n",
       "0                Minor_Damage_And_Injuries     49.223744   \n",
       "1                Minor_Damage_And_Injuries     62.465753   \n",
       "2        Significant_Damage_And_Fatalities     63.059361   \n",
       "3  Significant_Damage_And_Serious_Injuries     48.082192   \n",
       "4        Significant_Damage_And_Fatalities     26.484018   \n",
       "\n",
       "   Days_Since_Inspection  Total_Safety_Complaints  Control_Metric  \\\n",
       "0                     14                       22       71.285324   \n",
       "1                     10                       27       72.288058   \n",
       "2                     13                       16       66.362808   \n",
       "3                     11                        9       74.703737   \n",
       "4                     13                       25       47.948952   \n",
       "\n",
       "   Turbulence_In_gforces  Cabin_Temperature  Accident_Type_Code  \\\n",
       "0               0.272118              78.04                   2   \n",
       "1               0.423939              84.54                   2   \n",
       "2               0.322604              78.86                   7   \n",
       "3               0.337029              81.79                   3   \n",
       "4               0.541140              77.16                   3   \n",
       "\n",
       "   Max_Elevation  Violations  Adverse_Weather_Metric  Accident_ID  \n",
       "0   31335.476824           3                0.424352         7570  \n",
       "1   26024.711057           2                0.352350        12128  \n",
       "2   39269.053927           3                0.003364         2181  \n",
       "3   42771.499200           1                0.211728         5946  \n",
       "4   35509.228515           2                0.176883         9054  "
      ]
     },
     "execution_count": 417,
     "metadata": {},
     "output_type": "execute_result"
    }
   ],
   "source": [
    "accidents.head()"
   ]
  },
  {
   "cell_type": "code",
   "execution_count": 323,
   "metadata": {},
   "outputs": [
    {
     "data": {
      "text/html": [
       "<div>\n",
       "<style scoped>\n",
       "    .dataframe tbody tr th:only-of-type {\n",
       "        vertical-align: middle;\n",
       "    }\n",
       "\n",
       "    .dataframe tbody tr th {\n",
       "        vertical-align: top;\n",
       "    }\n",
       "\n",
       "    .dataframe thead th {\n",
       "        text-align: right;\n",
       "    }\n",
       "</style>\n",
       "<table border=\"1\" class=\"dataframe\">\n",
       "  <thead>\n",
       "    <tr style=\"text-align: right;\">\n",
       "      <th></th>\n",
       "      <th>Safety_Score</th>\n",
       "      <th>Days_Since_Inspection</th>\n",
       "      <th>Total_Safety_Complaints</th>\n",
       "      <th>Control_Metric</th>\n",
       "      <th>Turbulence_In_gforces</th>\n",
       "      <th>Cabin_Temperature</th>\n",
       "      <th>Accident_Type_Code</th>\n",
       "      <th>Max_Elevation</th>\n",
       "      <th>Violations</th>\n",
       "      <th>Adverse_Weather_Metric</th>\n",
       "      <th>Accident_ID</th>\n",
       "    </tr>\n",
       "  </thead>\n",
       "  <tbody>\n",
       "    <tr>\n",
       "      <th>count</th>\n",
       "      <td>10000.000000</td>\n",
       "      <td>10000.000000</td>\n",
       "      <td>10000.000000</td>\n",
       "      <td>10000.000000</td>\n",
       "      <td>10000.000000</td>\n",
       "      <td>10000.000000</td>\n",
       "      <td>10000.000000</td>\n",
       "      <td>10000.000000</td>\n",
       "      <td>10000.00000</td>\n",
       "      <td>10000.000000</td>\n",
       "      <td>10000.000000</td>\n",
       "    </tr>\n",
       "    <tr>\n",
       "      <th>mean</th>\n",
       "      <td>41.876406</td>\n",
       "      <td>12.931100</td>\n",
       "      <td>6.564300</td>\n",
       "      <td>65.145324</td>\n",
       "      <td>0.381495</td>\n",
       "      <td>79.969331</td>\n",
       "      <td>3.814900</td>\n",
       "      <td>32001.803282</td>\n",
       "      <td>2.01220</td>\n",
       "      <td>0.255635</td>\n",
       "      <td>6266.554200</td>\n",
       "    </tr>\n",
       "    <tr>\n",
       "      <th>std</th>\n",
       "      <td>16.138072</td>\n",
       "      <td>3.539803</td>\n",
       "      <td>6.971982</td>\n",
       "      <td>11.882934</td>\n",
       "      <td>0.121301</td>\n",
       "      <td>2.759739</td>\n",
       "      <td>1.902577</td>\n",
       "      <td>9431.995196</td>\n",
       "      <td>1.03998</td>\n",
       "      <td>0.381128</td>\n",
       "      <td>3610.170288</td>\n",
       "    </tr>\n",
       "    <tr>\n",
       "      <th>min</th>\n",
       "      <td>0.000000</td>\n",
       "      <td>1.000000</td>\n",
       "      <td>0.000000</td>\n",
       "      <td>0.000000</td>\n",
       "      <td>0.134000</td>\n",
       "      <td>74.740000</td>\n",
       "      <td>1.000000</td>\n",
       "      <td>831.695553</td>\n",
       "      <td>0.00000</td>\n",
       "      <td>0.000316</td>\n",
       "      <td>2.000000</td>\n",
       "    </tr>\n",
       "    <tr>\n",
       "      <th>25%</th>\n",
       "      <td>30.593607</td>\n",
       "      <td>11.000000</td>\n",
       "      <td>2.000000</td>\n",
       "      <td>56.927985</td>\n",
       "      <td>0.293665</td>\n",
       "      <td>77.960000</td>\n",
       "      <td>2.000000</td>\n",
       "      <td>25757.636908</td>\n",
       "      <td>1.00000</td>\n",
       "      <td>0.012063</td>\n",
       "      <td>3139.750000</td>\n",
       "    </tr>\n",
       "    <tr>\n",
       "      <th>50%</th>\n",
       "      <td>41.278539</td>\n",
       "      <td>13.000000</td>\n",
       "      <td>4.000000</td>\n",
       "      <td>65.587967</td>\n",
       "      <td>0.365879</td>\n",
       "      <td>79.540000</td>\n",
       "      <td>4.000000</td>\n",
       "      <td>32060.336419</td>\n",
       "      <td>2.00000</td>\n",
       "      <td>0.074467</td>\n",
       "      <td>6280.500000</td>\n",
       "    </tr>\n",
       "    <tr>\n",
       "      <th>75%</th>\n",
       "      <td>52.511416</td>\n",
       "      <td>15.000000</td>\n",
       "      <td>9.000000</td>\n",
       "      <td>73.336372</td>\n",
       "      <td>0.451346</td>\n",
       "      <td>81.560000</td>\n",
       "      <td>5.000000</td>\n",
       "      <td>38380.641513</td>\n",
       "      <td>3.00000</td>\n",
       "      <td>0.354059</td>\n",
       "      <td>9391.500000</td>\n",
       "    </tr>\n",
       "    <tr>\n",
       "      <th>max</th>\n",
       "      <td>100.000000</td>\n",
       "      <td>23.000000</td>\n",
       "      <td>54.000000</td>\n",
       "      <td>100.000000</td>\n",
       "      <td>0.882648</td>\n",
       "      <td>97.510000</td>\n",
       "      <td>7.000000</td>\n",
       "      <td>64297.651218</td>\n",
       "      <td>5.00000</td>\n",
       "      <td>2.365378</td>\n",
       "      <td>12500.000000</td>\n",
       "    </tr>\n",
       "  </tbody>\n",
       "</table>\n",
       "</div>"
      ],
      "text/plain": [
       "       Safety_Score  Days_Since_Inspection  Total_Safety_Complaints  \\\n",
       "count  10000.000000           10000.000000             10000.000000   \n",
       "mean      41.876406              12.931100                 6.564300   \n",
       "std       16.138072               3.539803                 6.971982   \n",
       "min        0.000000               1.000000                 0.000000   \n",
       "25%       30.593607              11.000000                 2.000000   \n",
       "50%       41.278539              13.000000                 4.000000   \n",
       "75%       52.511416              15.000000                 9.000000   \n",
       "max      100.000000              23.000000                54.000000   \n",
       "\n",
       "       Control_Metric  Turbulence_In_gforces  Cabin_Temperature  \\\n",
       "count    10000.000000           10000.000000       10000.000000   \n",
       "mean        65.145324               0.381495          79.969331   \n",
       "std         11.882934               0.121301           2.759739   \n",
       "min          0.000000               0.134000          74.740000   \n",
       "25%         56.927985               0.293665          77.960000   \n",
       "50%         65.587967               0.365879          79.540000   \n",
       "75%         73.336372               0.451346          81.560000   \n",
       "max        100.000000               0.882648          97.510000   \n",
       "\n",
       "       Accident_Type_Code  Max_Elevation   Violations  Adverse_Weather_Metric  \\\n",
       "count        10000.000000   10000.000000  10000.00000            10000.000000   \n",
       "mean             3.814900   32001.803282      2.01220                0.255635   \n",
       "std              1.902577    9431.995196      1.03998                0.381128   \n",
       "min              1.000000     831.695553      0.00000                0.000316   \n",
       "25%              2.000000   25757.636908      1.00000                0.012063   \n",
       "50%              4.000000   32060.336419      2.00000                0.074467   \n",
       "75%              5.000000   38380.641513      3.00000                0.354059   \n",
       "max              7.000000   64297.651218      5.00000                2.365378   \n",
       "\n",
       "        Accident_ID  \n",
       "count  10000.000000  \n",
       "mean    6266.554200  \n",
       "std     3610.170288  \n",
       "min        2.000000  \n",
       "25%     3139.750000  \n",
       "50%     6280.500000  \n",
       "75%     9391.500000  \n",
       "max    12500.000000  "
      ]
     },
     "execution_count": 323,
     "metadata": {},
     "output_type": "execute_result"
    }
   ],
   "source": [
    "# Get some statistical summary of the the numerical features in the data\n",
    "accidents.describe()"
   ]
  },
  {
   "cell_type": "code",
   "execution_count": 324,
   "metadata": {},
   "outputs": [
    {
     "name": "stdout",
     "output_type": "stream",
     "text": [
      "<class 'pandas.core.frame.DataFrame'>\n",
      "RangeIndex: 10000 entries, 0 to 9999\n",
      "Data columns (total 12 columns):\n",
      "Severity                   10000 non-null object\n",
      "Safety_Score               10000 non-null float64\n",
      "Days_Since_Inspection      10000 non-null int64\n",
      "Total_Safety_Complaints    10000 non-null int64\n",
      "Control_Metric             10000 non-null float64\n",
      "Turbulence_In_gforces      10000 non-null float64\n",
      "Cabin_Temperature          10000 non-null float64\n",
      "Accident_Type_Code         10000 non-null int64\n",
      "Max_Elevation              10000 non-null float64\n",
      "Violations                 10000 non-null int64\n",
      "Adverse_Weather_Metric     10000 non-null float64\n",
      "Accident_ID                10000 non-null int64\n",
      "dtypes: float64(6), int64(5), object(1)\n",
      "memory usage: 937.6+ KB\n"
     ]
    }
   ],
   "source": [
    "# Check on the data types and no. of observations in each feature\n",
    "accidents.info()"
   ]
  },
  {
   "cell_type": "code",
   "execution_count": 325,
   "metadata": {},
   "outputs": [
    {
     "name": "stderr",
     "output_type": "stream",
     "text": [
      "C:\\Users\\Kelvin Kinda\\Anaconda3\\lib\\site-packages\\IPython\\core\\interactiveshell.py:2910: UserWarning: To output multiple subplots, the figure containing the passed axes is being cleared\n",
      "  exec(code_obj, self.user_global_ns, self.user_ns)\n"
     ]
    },
    {
     "data": {
      "text/plain": [
       "array([[<matplotlib.axes._subplots.AxesSubplot object at 0x0000026BC53E8A90>,\n",
       "        <matplotlib.axes._subplots.AxesSubplot object at 0x0000026BC543FA20>,\n",
       "        <matplotlib.axes._subplots.AxesSubplot object at 0x0000026BC5466A90>],\n",
       "       [<matplotlib.axes._subplots.AxesSubplot object at 0x0000026BC5401B38>,\n",
       "        <matplotlib.axes._subplots.AxesSubplot object at 0x0000026BC54BFDD8>,\n",
       "        <matplotlib.axes._subplots.AxesSubplot object at 0x0000026BC54BFE10>],\n",
       "       [<matplotlib.axes._subplots.AxesSubplot object at 0x0000026BC5533F28>,\n",
       "        <matplotlib.axes._subplots.AxesSubplot object at 0x0000026BC55780B8>,\n",
       "        <matplotlib.axes._subplots.AxesSubplot object at 0x0000026BC55A09E8>],\n",
       "       [<matplotlib.axes._subplots.AxesSubplot object at 0x0000026BC55D4A58>,\n",
       "        <matplotlib.axes._subplots.AxesSubplot object at 0x0000026BC560ECF8>,\n",
       "        <matplotlib.axes._subplots.AxesSubplot object at 0x0000026BC5642D68>]],\n",
       "      dtype=object)"
      ]
     },
     "execution_count": 325,
     "metadata": {},
     "output_type": "execute_result"
    },
    {
     "data": {
      "image/png": "[encoded data removed]",
      "text/plain": [
       "<matplotlib.figure.Figure at 0x26bc53e8710>"
      ]
     },
     "metadata": {},
     "output_type": "display_data"
    }
   ],
   "source": [
    "# Plot a histogram of each feature to get a sense of its distribution\n",
    "fig, ax = plt.subplots(figsize=(14,10))\n",
    "accidents.hist(ax=ax)"
   ]
  },
  {
   "cell_type": "code",
   "execution_count": 326,
   "metadata": {},
   "outputs": [
    {
     "data": {
      "text/plain": [
       "<matplotlib.axes._subplots.AxesSubplot at 0x26bc5ab28d0>"
      ]
     },
     "execution_count": 326,
     "metadata": {},
     "output_type": "execute_result"
    },
    {
     "data": {
      "image/png": "[encoded data removed]",
      "text/plain": [
       "<matplotlib.figure.Figure at 0x26bb9f29be0>"
      ]
     },
     "metadata": {},
     "output_type": "display_data"
    }
   ],
   "source": [
    "# Go deeper into Adverse Weather Metric, Total Safety Complaints to check for outliers using a boxplot\n",
    "sns.boxplot(y='Adverse_Weather_Metric', data=accidents)"
   ]
  },
  {
   "cell_type": "markdown",
   "metadata": {},
   "source": [
    "#### The Adverse Weather Metric seems to be skewed to the right with majority of the outlier lying on the right side of the distribution"
   ]
  },
  {
   "cell_type": "code",
   "execution_count": 327,
   "metadata": {},
   "outputs": [
    {
     "data": {
      "text/plain": [
       "<matplotlib.axes._subplots.AxesSubplot at 0x26bc5abddd8>"
      ]
     },
     "execution_count": 327,
     "metadata": {},
     "output_type": "execute_result"
    },
    {
     "data": {
      "image/png": "[encoded data removed]",
      "text/plain": [
       "<matplotlib.figure.Figure at 0x26bc577bcf8>"
      ]
     },
     "metadata": {},
     "output_type": "display_data"
    }
   ],
   "source": [
    "sns.boxplot(y='Total_Safety_Complaints', data=accidents)"
   ]
  },
  {
   "cell_type": "markdown",
   "metadata": {},
   "source": [
    "#### The Total Safety Complaints seems to be skewed to the right with majority of the outliers lying on the right side of the distribution"
   ]
  },
  {
   "cell_type": "markdown",
   "metadata": {},
   "source": [
    "### Check how each feature relates to the target i.e Severity"
   ]
  },
  {
   "cell_type": "code",
   "execution_count": 328,
   "metadata": {},
   "outputs": [],
   "source": [
    "# fig,ax = plt.subplots()\n",
    "# plt.figure(figsize=(17,17))\n",
    "# sns.pairplot(data=accidents, hue='Severity')"
   ]
  },
  {
   "cell_type": "code",
   "execution_count": 329,
   "metadata": {},
   "outputs": [
    {
     "data": {
      "text/plain": [
       "Highly_Fatal_And_Damaging                  3049\n",
       "Significant_Damage_And_Serious_Injuries    2729\n",
       "Minor_Damage_And_Injuries                  2527\n",
       "Significant_Damage_And_Fatalities          1695\n",
       "Name: Severity, dtype: int64"
      ]
     },
     "execution_count": 329,
     "metadata": {},
     "output_type": "execute_result"
    }
   ],
   "source": [
    "accidents['Severity'].value_counts()"
   ]
  },
  {
   "cell_type": "markdown",
   "metadata": {},
   "source": [
    "#### Observations:\n",
    "* Safety Score and Accident Type Code do a better job at separating the different classes"
   ]
  },
  {
   "cell_type": "code",
   "execution_count": 330,
   "metadata": {},
   "outputs": [
    {
     "data": {
      "text/plain": [
       "Severity                                 Accident_Type_Code\n",
       "Highly_Fatal_And_Damaging                1                      521\n",
       "                                         2                      461\n",
       "                                         3                      315\n",
       "                                         4                     1178\n",
       "                                         5                      168\n",
       "                                         6                      210\n",
       "                                         7                      196\n",
       "Minor_Damage_And_Injuries                1                      231\n",
       "                                         2                     1021\n",
       "                                         3                      309\n",
       "                                         4                      269\n",
       "                                         5                      350\n",
       "                                         6                      193\n",
       "                                         7                      154\n",
       "Significant_Damage_And_Fatalities        1                      261\n",
       "                                         2                      168\n",
       "                                         3                       95\n",
       "                                         4                      399\n",
       "                                         5                       80\n",
       "                                         6                       93\n",
       "                                         7                      599\n",
       "Significant_Damage_And_Serious_Injuries  1                      158\n",
       "                                         2                      141\n",
       "                                         3                     1033\n",
       "                                         4                      211\n",
       "                                         5                      140\n",
       "                                         6                      719\n",
       "                                         7                      327\n",
       "Name: Severity, dtype: int64"
      ]
     },
     "execution_count": 330,
     "metadata": {},
     "output_type": "execute_result"
    }
   ],
   "source": [
    "accidents[['Severity', 'Accident_Type_Code']].groupby(['Severity','Accident_Type_Code'])['Severity'].count()"
   ]
  },
  {
   "cell_type": "markdown",
   "metadata": {},
   "source": [
    "### Check how each feature relates to each other"
   ]
  },
  {
   "cell_type": "code",
   "execution_count": 331,
   "metadata": {},
   "outputs": [
    {
     "data": {
      "text/html": [
       "<div>\n",
       "<style scoped>\n",
       "    .dataframe tbody tr th:only-of-type {\n",
       "        vertical-align: middle;\n",
       "    }\n",
       "\n",
       "    .dataframe tbody tr th {\n",
       "        vertical-align: top;\n",
       "    }\n",
       "\n",
       "    .dataframe thead th {\n",
       "        text-align: right;\n",
       "    }\n",
       "</style>\n",
       "<table border=\"1\" class=\"dataframe\">\n",
       "  <thead>\n",
       "    <tr style=\"text-align: right;\">\n",
       "      <th></th>\n",
       "      <th>Safety_Score</th>\n",
       "      <th>Days_Since_Inspection</th>\n",
       "      <th>Total_Safety_Complaints</th>\n",
       "      <th>Control_Metric</th>\n",
       "      <th>Turbulence_In_gforces</th>\n",
       "      <th>Cabin_Temperature</th>\n",
       "      <th>Accident_Type_Code</th>\n",
       "      <th>Max_Elevation</th>\n",
       "      <th>Violations</th>\n",
       "      <th>Adverse_Weather_Metric</th>\n",
       "      <th>Accident_ID</th>\n",
       "    </tr>\n",
       "  </thead>\n",
       "  <tbody>\n",
       "    <tr>\n",
       "      <th>Safety_Score</th>\n",
       "      <td>1.000000</td>\n",
       "      <td>-0.685386</td>\n",
       "      <td>0.057726</td>\n",
       "      <td>0.000564</td>\n",
       "      <td>0.019603</td>\n",
       "      <td>0.032747</td>\n",
       "      <td>0.173930</td>\n",
       "      <td>0.004451</td>\n",
       "      <td>0.041735</td>\n",
       "      <td>-0.107925</td>\n",
       "      <td>-0.001334</td>\n",
       "    </tr>\n",
       "    <tr>\n",
       "      <th>Days_Since_Inspection</th>\n",
       "      <td>-0.685386</td>\n",
       "      <td>1.000000</td>\n",
       "      <td>-0.032055</td>\n",
       "      <td>-0.011963</td>\n",
       "      <td>-0.001564</td>\n",
       "      <td>-0.039140</td>\n",
       "      <td>-0.024718</td>\n",
       "      <td>0.000183</td>\n",
       "      <td>-0.016724</td>\n",
       "      <td>0.040804</td>\n",
       "      <td>0.000582</td>\n",
       "    </tr>\n",
       "    <tr>\n",
       "      <th>Total_Safety_Complaints</th>\n",
       "      <td>0.057726</td>\n",
       "      <td>-0.032055</td>\n",
       "      <td>1.000000</td>\n",
       "      <td>-0.019665</td>\n",
       "      <td>0.066412</td>\n",
       "      <td>0.013590</td>\n",
       "      <td>0.034927</td>\n",
       "      <td>0.036855</td>\n",
       "      <td>-0.019005</td>\n",
       "      <td>-0.002713</td>\n",
       "      <td>0.004527</td>\n",
       "    </tr>\n",
       "    <tr>\n",
       "      <th>Control_Metric</th>\n",
       "      <td>0.000564</td>\n",
       "      <td>-0.011963</td>\n",
       "      <td>-0.019665</td>\n",
       "      <td>1.000000</td>\n",
       "      <td>-0.643285</td>\n",
       "      <td>-0.008330</td>\n",
       "      <td>0.008385</td>\n",
       "      <td>-0.028375</td>\n",
       "      <td>-0.003284</td>\n",
       "      <td>-0.028296</td>\n",
       "      <td>0.006481</td>\n",
       "    </tr>\n",
       "    <tr>\n",
       "      <th>Turbulence_In_gforces</th>\n",
       "      <td>0.019603</td>\n",
       "      <td>-0.001564</td>\n",
       "      <td>0.066412</td>\n",
       "      <td>-0.643285</td>\n",
       "      <td>1.000000</td>\n",
       "      <td>0.010757</td>\n",
       "      <td>-0.007565</td>\n",
       "      <td>0.047625</td>\n",
       "      <td>0.013171</td>\n",
       "      <td>0.039802</td>\n",
       "      <td>-0.014396</td>\n",
       "    </tr>\n",
       "    <tr>\n",
       "      <th>Cabin_Temperature</th>\n",
       "      <td>0.032747</td>\n",
       "      <td>-0.039140</td>\n",
       "      <td>0.013590</td>\n",
       "      <td>-0.008330</td>\n",
       "      <td>0.010757</td>\n",
       "      <td>1.000000</td>\n",
       "      <td>0.030682</td>\n",
       "      <td>-0.009186</td>\n",
       "      <td>0.018619</td>\n",
       "      <td>-0.026647</td>\n",
       "      <td>0.014865</td>\n",
       "    </tr>\n",
       "    <tr>\n",
       "      <th>Accident_Type_Code</th>\n",
       "      <td>0.173930</td>\n",
       "      <td>-0.024718</td>\n",
       "      <td>0.034927</td>\n",
       "      <td>0.008385</td>\n",
       "      <td>-0.007565</td>\n",
       "      <td>0.030682</td>\n",
       "      <td>1.000000</td>\n",
       "      <td>0.019970</td>\n",
       "      <td>0.046379</td>\n",
       "      <td>-0.739361</td>\n",
       "      <td>-0.012278</td>\n",
       "    </tr>\n",
       "    <tr>\n",
       "      <th>Max_Elevation</th>\n",
       "      <td>0.004451</td>\n",
       "      <td>0.000183</td>\n",
       "      <td>0.036855</td>\n",
       "      <td>-0.028375</td>\n",
       "      <td>0.047625</td>\n",
       "      <td>-0.009186</td>\n",
       "      <td>0.019970</td>\n",
       "      <td>1.000000</td>\n",
       "      <td>-0.030513</td>\n",
       "      <td>0.173436</td>\n",
       "      <td>0.008576</td>\n",
       "    </tr>\n",
       "    <tr>\n",
       "      <th>Violations</th>\n",
       "      <td>0.041735</td>\n",
       "      <td>-0.016724</td>\n",
       "      <td>-0.019005</td>\n",
       "      <td>-0.003284</td>\n",
       "      <td>0.013171</td>\n",
       "      <td>0.018619</td>\n",
       "      <td>0.046379</td>\n",
       "      <td>-0.030513</td>\n",
       "      <td>1.000000</td>\n",
       "      <td>-0.021578</td>\n",
       "      <td>-0.002047</td>\n",
       "    </tr>\n",
       "    <tr>\n",
       "      <th>Adverse_Weather_Metric</th>\n",
       "      <td>-0.107925</td>\n",
       "      <td>0.040804</td>\n",
       "      <td>-0.002713</td>\n",
       "      <td>-0.028296</td>\n",
       "      <td>0.039802</td>\n",
       "      <td>-0.026647</td>\n",
       "      <td>-0.739361</td>\n",
       "      <td>0.173436</td>\n",
       "      <td>-0.021578</td>\n",
       "      <td>1.000000</td>\n",
       "      <td>0.008586</td>\n",
       "    </tr>\n",
       "    <tr>\n",
       "      <th>Accident_ID</th>\n",
       "      <td>-0.001334</td>\n",
       "      <td>0.000582</td>\n",
       "      <td>0.004527</td>\n",
       "      <td>0.006481</td>\n",
       "      <td>-0.014396</td>\n",
       "      <td>0.014865</td>\n",
       "      <td>-0.012278</td>\n",
       "      <td>0.008576</td>\n",
       "      <td>-0.002047</td>\n",
       "      <td>0.008586</td>\n",
       "      <td>1.000000</td>\n",
       "    </tr>\n",
       "  </tbody>\n",
       "</table>\n",
       "</div>"
      ],
      "text/plain": [
       "                         Safety_Score  Days_Since_Inspection  \\\n",
       "Safety_Score                 1.000000              -0.685386   \n",
       "Days_Since_Inspection       -0.685386               1.000000   \n",
       "Total_Safety_Complaints      0.057726              -0.032055   \n",
       "Control_Metric               0.000564              -0.011963   \n",
       "Turbulence_In_gforces        0.019603              -0.001564   \n",
       "Cabin_Temperature            0.032747              -0.039140   \n",
       "Accident_Type_Code           0.173930              -0.024718   \n",
       "Max_Elevation                0.004451               0.000183   \n",
       "Violations                   0.041735              -0.016724   \n",
       "Adverse_Weather_Metric      -0.107925               0.040804   \n",
       "Accident_ID                 -0.001334               0.000582   \n",
       "\n",
       "                         Total_Safety_Complaints  Control_Metric  \\\n",
       "Safety_Score                            0.057726        0.000564   \n",
       "Days_Since_Inspection                  -0.032055       -0.011963   \n",
       "Total_Safety_Complaints                 1.000000       -0.019665   \n",
       "Control_Metric                         -0.019665        1.000000   \n",
       "Turbulence_In_gforces                   0.066412       -0.643285   \n",
       "Cabin_Temperature                       0.013590       -0.008330   \n",
       "Accident_Type_Code                      0.034927        0.008385   \n",
       "Max_Elevation                           0.036855       -0.028375   \n",
       "Violations                             -0.019005       -0.003284   \n",
       "Adverse_Weather_Metric                 -0.002713       -0.028296   \n",
       "Accident_ID                             0.004527        0.006481   \n",
       "\n",
       "                         Turbulence_In_gforces  Cabin_Temperature  \\\n",
       "Safety_Score                          0.019603           0.032747   \n",
       "Days_Since_Inspection                -0.001564          -0.039140   \n",
       "Total_Safety_Complaints               0.066412           0.013590   \n",
       "Control_Metric                       -0.643285          -0.008330   \n",
       "Turbulence_In_gforces                 1.000000           0.010757   \n",
       "Cabin_Temperature                     0.010757           1.000000   \n",
       "Accident_Type_Code                   -0.007565           0.030682   \n",
       "Max_Elevation                         0.047625          -0.009186   \n",
       "Violations                            0.013171           0.018619   \n",
       "Adverse_Weather_Metric                0.039802          -0.026647   \n",
       "Accident_ID                          -0.014396           0.014865   \n",
       "\n",
       "                         Accident_Type_Code  Max_Elevation  Violations  \\\n",
       "Safety_Score                       0.173930       0.004451    0.041735   \n",
       "Days_Since_Inspection             -0.024718       0.000183   -0.016724   \n",
       "Total_Safety_Complaints            0.034927       0.036855   -0.019005   \n",
       "Control_Metric                     0.008385      -0.028375   -0.003284   \n",
       "Turbulence_In_gforces             -0.007565       0.047625    0.013171   \n",
       "Cabin_Temperature                  0.030682      -0.009186    0.018619   \n",
       "Accident_Type_Code                 1.000000       0.019970    0.046379   \n",
       "Max_Elevation                      0.019970       1.000000   -0.030513   \n",
       "Violations                         0.046379      -0.030513    1.000000   \n",
       "Adverse_Weather_Metric            -0.739361       0.173436   -0.021578   \n",
       "Accident_ID                       -0.012278       0.008576   -0.002047   \n",
       "\n",
       "                         Adverse_Weather_Metric  Accident_ID  \n",
       "Safety_Score                          -0.107925    -0.001334  \n",
       "Days_Since_Inspection                  0.040804     0.000582  \n",
       "Total_Safety_Complaints               -0.002713     0.004527  \n",
       "Control_Metric                        -0.028296     0.006481  \n",
       "Turbulence_In_gforces                  0.039802    -0.014396  \n",
       "Cabin_Temperature                     -0.026647     0.014865  \n",
       "Accident_Type_Code                    -0.739361    -0.012278  \n",
       "Max_Elevation                          0.173436     0.008576  \n",
       "Violations                            -0.021578    -0.002047  \n",
       "Adverse_Weather_Metric                 1.000000     0.008586  \n",
       "Accident_ID                            0.008586     1.000000  "
      ]
     },
     "execution_count": 331,
     "metadata": {},
     "output_type": "execute_result"
    }
   ],
   "source": [
    "# Drop the target and check how the features correlate\n",
    "accidents.drop(\"Severity\", axis=1).corr()"
   ]
  },
  {
   "cell_type": "code",
   "execution_count": 332,
   "metadata": {},
   "outputs": [
    {
     "data": {
      "text/html": [
       "<div>\n",
       "<style scoped>\n",
       "    .dataframe tbody tr th:only-of-type {\n",
       "        vertical-align: middle;\n",
       "    }\n",
       "\n",
       "    .dataframe tbody tr th {\n",
       "        vertical-align: top;\n",
       "    }\n",
       "\n",
       "    .dataframe thead th {\n",
       "        text-align: right;\n",
       "    }\n",
       "</style>\n",
       "<table border=\"1\" class=\"dataframe\">\n",
       "  <thead>\n",
       "    <tr style=\"text-align: right;\">\n",
       "      <th></th>\n",
       "      <th>Severity</th>\n",
       "      <th>Safety_Score</th>\n",
       "      <th>Days_Since_Inspection</th>\n",
       "      <th>Total_Safety_Complaints</th>\n",
       "      <th>Control_Metric</th>\n",
       "      <th>Turbulence_In_gforces</th>\n",
       "      <th>Cabin_Temperature</th>\n",
       "      <th>Accident_Type_Code</th>\n",
       "      <th>Max_Elevation</th>\n",
       "      <th>Violations</th>\n",
       "      <th>Adverse_Weather_Metric</th>\n",
       "      <th>Accident_ID</th>\n",
       "    </tr>\n",
       "  </thead>\n",
       "  <tbody>\n",
       "    <tr>\n",
       "      <th>840</th>\n",
       "      <td>Significant_Damage_And_Serious_Injuries</td>\n",
       "      <td>58.675799</td>\n",
       "      <td>1</td>\n",
       "      <td>2</td>\n",
       "      <td>75.387420</td>\n",
       "      <td>0.336308</td>\n",
       "      <td>75.96</td>\n",
       "      <td>6</td>\n",
       "      <td>29146.687854</td>\n",
       "      <td>3</td>\n",
       "      <td>0.007526</td>\n",
       "      <td>9494</td>\n",
       "    </tr>\n",
       "    <tr>\n",
       "      <th>2283</th>\n",
       "      <td>Significant_Damage_And_Serious_Injuries</td>\n",
       "      <td>58.493151</td>\n",
       "      <td>1</td>\n",
       "      <td>5</td>\n",
       "      <td>75.387420</td>\n",
       "      <td>0.245792</td>\n",
       "      <td>76.11</td>\n",
       "      <td>6</td>\n",
       "      <td>16149.317704</td>\n",
       "      <td>3</td>\n",
       "      <td>0.003679</td>\n",
       "      <td>9705</td>\n",
       "    </tr>\n",
       "    <tr>\n",
       "      <th>2611</th>\n",
       "      <td>Highly_Fatal_And_Damaging</td>\n",
       "      <td>65.342466</td>\n",
       "      <td>1</td>\n",
       "      <td>19</td>\n",
       "      <td>77.848678</td>\n",
       "      <td>0.361191</td>\n",
       "      <td>79.65</td>\n",
       "      <td>2</td>\n",
       "      <td>31661.628810</td>\n",
       "      <td>2</td>\n",
       "      <td>0.429535</td>\n",
       "      <td>5430</td>\n",
       "    </tr>\n",
       "    <tr>\n",
       "      <th>7903</th>\n",
       "      <td>Highly_Fatal_And_Damaging</td>\n",
       "      <td>65.342466</td>\n",
       "      <td>1</td>\n",
       "      <td>8</td>\n",
       "      <td>58.204193</td>\n",
       "      <td>0.312146</td>\n",
       "      <td>79.43</td>\n",
       "      <td>2</td>\n",
       "      <td>28183.323130</td>\n",
       "      <td>2</td>\n",
       "      <td>0.382453</td>\n",
       "      <td>11009</td>\n",
       "    </tr>\n",
       "    <tr>\n",
       "      <th>8152</th>\n",
       "      <td>Significant_Damage_And_Serious_Injuries</td>\n",
       "      <td>58.493151</td>\n",
       "      <td>1</td>\n",
       "      <td>20</td>\n",
       "      <td>67.046490</td>\n",
       "      <td>0.409514</td>\n",
       "      <td>79.72</td>\n",
       "      <td>7</td>\n",
       "      <td>25135.851480</td>\n",
       "      <td>2</td>\n",
       "      <td>0.002300</td>\n",
       "      <td>361</td>\n",
       "    </tr>\n",
       "  </tbody>\n",
       "</table>\n",
       "</div>"
      ],
      "text/plain": [
       "                                     Severity  Safety_Score  \\\n",
       "840   Significant_Damage_And_Serious_Injuries     58.675799   \n",
       "2283  Significant_Damage_And_Serious_Injuries     58.493151   \n",
       "2611                Highly_Fatal_And_Damaging     65.342466   \n",
       "7903                Highly_Fatal_And_Damaging     65.342466   \n",
       "8152  Significant_Damage_And_Serious_Injuries     58.493151   \n",
       "\n",
       "      Days_Since_Inspection  Total_Safety_Complaints  Control_Metric  \\\n",
       "840                       1                        2       75.387420   \n",
       "2283                      1                        5       75.387420   \n",
       "2611                      1                       19       77.848678   \n",
       "7903                      1                        8       58.204193   \n",
       "8152                      1                       20       67.046490   \n",
       "\n",
       "      Turbulence_In_gforces  Cabin_Temperature  Accident_Type_Code  \\\n",
       "840                0.336308              75.96                   6   \n",
       "2283               0.245792              76.11                   6   \n",
       "2611               0.361191              79.65                   2   \n",
       "7903               0.312146              79.43                   2   \n",
       "8152               0.409514              79.72                   7   \n",
       "\n",
       "      Max_Elevation  Violations  Adverse_Weather_Metric  Accident_ID  \n",
       "840    29146.687854           3                0.007526         9494  \n",
       "2283   16149.317704           3                0.003679         9705  \n",
       "2611   31661.628810           2                0.429535         5430  \n",
       "7903   28183.323130           2                0.382453        11009  \n",
       "8152   25135.851480           2                0.002300          361  "
      ]
     },
     "execution_count": 332,
     "metadata": {},
     "output_type": "execute_result"
    }
   ],
   "source": [
    "accidents[accidents[\"Days_Since_Inspection\"] == 1]"
   ]
  },
  {
   "cell_type": "markdown",
   "metadata": {},
   "source": [
    "#### Observations\n",
    "* Days since inspection has a strong -ve correlation with Safety Score\n",
    "* Turbulence in gforces has a strong -ve correlation with Control Metric\n",
    "* Accident type code has a weak +ve correlation with the Safety Score\n",
    "* Adverse Weather Metric has a strong -ve correlation with Accident Type Code\n",
    "* Adverse Weather Metric has a weak +ve correlation with Max Elevation"
   ]
  },
  {
   "cell_type": "code",
   "execution_count": 333,
   "metadata": {},
   "outputs": [],
   "source": [
    "# drop the Accident_ID column since it does not help in the analysis\n",
    "accidents.drop(\"Accident_ID\", axis=1, inplace=True)"
   ]
  },
  {
   "cell_type": "markdown",
   "metadata": {},
   "source": [
    "#### Encode categorical data i.e. Accident_Type_Code"
   ]
  },
  {
   "cell_type": "code",
   "execution_count": 334,
   "metadata": {},
   "outputs": [
    {
     "name": "stderr",
     "output_type": "stream",
     "text": [
      "C:\\Users\\Kelvin Kinda\\Anaconda3\\lib\\site-packages\\ipykernel_launcher.py:4: FutureWarning: reshape is deprecated and will raise in a subsequent release. Please use .values.reshape(...) instead\n",
      "  after removing the cwd from sys.path.\n"
     ]
    }
   ],
   "source": [
    "from sklearn.preprocessing import OneHotEncoder\n",
    "\n",
    "onehot_enc = OneHotEncoder(sparse=False)\n",
    "accidents['Accident_Type_Code'] = onehot_enc.fit_transform(accidents['Accident_Type_Code'].reshape(-1,1))"
   ]
  },
  {
   "cell_type": "markdown",
   "metadata": {},
   "source": [
    "### Prepare the data for the ML models and build the models"
   ]
  },
  {
   "cell_type": "code",
   "execution_count": 335,
   "metadata": {},
   "outputs": [],
   "source": [
    "from sklearn.preprocessing import StandardScaler\n",
    "from sklearn.model_selection import train_test_split\n",
    "from sklearn.linear_model import LogisticRegression\n",
    "from sklearn.ensemble import RandomForestClassifier\n",
    "from sklearn.svm import SVC\n",
    "from sklearn.tree import DecisionTreeClassifier\n",
    "from sklearn.neighbors import KNeighborsClassifier\n",
    "from sklearn.ensemble import GradientBoostingClassifier\n",
    "from sklearn.metrics import f1_score\n",
    "from sklearn.metrics import precision_score, recall_score"
   ]
  },
  {
   "cell_type": "code",
   "execution_count": 336,
   "metadata": {},
   "outputs": [],
   "source": [
    "precision_score?"
   ]
  },
  {
   "cell_type": "markdown",
   "metadata": {},
   "source": [
    "#### Scale the data first using StandardScaler"
   ]
  },
  {
   "cell_type": "code",
   "execution_count": 337,
   "metadata": {},
   "outputs": [],
   "source": [
    "# Split the data into X (features) and y (target) and our train and test samples\n",
    "X = accidents.drop([\"Severity\"], axis=1)\n",
    "y = accidents[\"Severity\"]\n",
    "\n",
    "X = StandardScaler().fit_transform(X)\n",
    "\n",
    "# Train Test split. Set random_state for regenerability i.e. generate the same sample split each time its run\n",
    "X_train, X_test, y_train, y_test = train_test_split(X, y, test_size=0.2, random_state=23)"
   ]
  },
  {
   "cell_type": "code",
   "execution_count": 338,
   "metadata": {},
   "outputs": [
    {
     "data": {
      "text/plain": [
       "((8000, 10), (8000,), (2000, 10), (2000,))"
      ]
     },
     "execution_count": 338,
     "metadata": {},
     "output_type": "execute_result"
    }
   ],
   "source": [
    "X_train.shape, y_train.shape, X_test.shape, y_test.shape"
   ]
  },
  {
   "cell_type": "markdown",
   "metadata": {},
   "source": [
    "#### Logistic Regression"
   ]
  },
  {
   "cell_type": "code",
   "execution_count": 339,
   "metadata": {
    "scrolled": true
   },
   "outputs": [],
   "source": [
    "def LogisticRegression_Classifier(X_train, X_test, y_train, y_test, **kwargs):\n",
    "    log_reg = LogisticRegression(**kwargs)\n",
    "    log_reg.fit(X_train, y_train)\n",
    "    \n",
    "    y_preds = log_reg.predict(X_test)\n",
    "    score = 100 * f1_score(y_test, y_preds, average='weighted')\n",
    "    precision = precision_score(y_test, y_preds, average='weighted')\n",
    "    recall = recall_score(y_test, y_preds, average='weighted')\n",
    "    \n",
    "    print(\"Logistic Regression: \\n f1_score: {} \\n precision: {} \\n recall: {}\".format(score, precision, recall))\n",
    "    \n",
    "    return log_reg"
   ]
  },
  {
   "cell_type": "markdown",
   "metadata": {},
   "source": [
    "#### Decision Tree Classifier"
   ]
  },
  {
   "cell_type": "code",
   "execution_count": 340,
   "metadata": {},
   "outputs": [],
   "source": [
    "def DecisionTree(X_train, X_test, y_train, y_test, **kwargs):\n",
    "    decision_tree = DecisionTreeClassifier(**kwargs)\n",
    "    decision_tree.fit(X_train, y_train)\n",
    "\n",
    "    y_preds = decision_tree.predict(X_test)\n",
    "    score = 100 * f1_score(y_test, y_preds, average='weighted')\n",
    "    precision = precision_score(y_test, y_preds, average='weighted')\n",
    "    recall = recall_score(y_test, y_preds, average='weighted')\n",
    "    \n",
    "    print(\"Decision Tree: \\n f1_score: {} \\n precision: {} \\n recall: {}\".format(score, precision, recall))\n",
    "    \n",
    "    return decision_tree"
   ]
  },
  {
   "cell_type": "markdown",
   "metadata": {},
   "source": [
    "#### KNN Classifier"
   ]
  },
  {
   "cell_type": "code",
   "execution_count": 371,
   "metadata": {},
   "outputs": [],
   "source": [
    "def KNN(X_train, X_test, y_train, y_test, **kwargs):\n",
    "    knn = KNeighborsClassifier(**kwargs)\n",
    "    knn.fit(X_train, y_train)\n",
    "    \n",
    "    y_preds = knn.predict(X_test)\n",
    "    score = 100 * f1_score(y_test, y_preds, average='weighted')\n",
    "    precision = precision_score(y_test, y_preds, average='weighted')\n",
    "    recall = recall_score(y_test, y_preds, average='weighted')\n",
    "    \n",
    "    print(\"KNN: \\n f1_score: {} \\n precision: {} \\n recall: {}\".format(score, precision, recall))\n",
    "    \n",
    "    return knn"
   ]
  },
  {
   "cell_type": "markdown",
   "metadata": {},
   "source": [
    "#### SVC"
   ]
  },
  {
   "cell_type": "code",
   "execution_count": 342,
   "metadata": {},
   "outputs": [],
   "source": [
    "def SVC_Classifier(X_train, X_test, y_train, y_test, **kwargs):\n",
    "    svc = SVC(**kwargs)\n",
    "    svc.fit(X_train, y_train)\n",
    "    \n",
    "    y_preds = svc.predict(X_test)\n",
    "    score = 100 * f1_score(y_test, y_preds, average='weighted')\n",
    "    precision = precision_score(y_test, y_preds, average='weighted')\n",
    "    recall = recall_score(y_test, y_preds, average='weighted')\n",
    "    \n",
    "    print(\"SVC: \\n f1_score: {} \\n precision: {} \\n recall: {}\".format(score, precision, recall))\n",
    "    \n",
    "    return svc"
   ]
  },
  {
   "cell_type": "markdown",
   "metadata": {},
   "source": [
    "#### GradientBoosting Classifier"
   ]
  },
  {
   "cell_type": "code",
   "execution_count": 343,
   "metadata": {},
   "outputs": [],
   "source": [
    "def GradientBoosting(X_train, X_test, y_train, y_test, **kwargs):\n",
    "    gboosting = GradientBoostingClassifier(**kwargs)\n",
    "    gboosting.fit(X_train, y_train)\n",
    "    \n",
    "    y_preds = gboosting.predict(X_test)\n",
    "    score = 100 * f1_score(y_test, y_preds, average='weighted')\n",
    "    precision = precision_score(y_test, y_preds, average='weighted')\n",
    "    recall = recall_score(y_test, y_preds, average='weighted')\n",
    "    \n",
    "    print(\"Gradient Boosting: \\n f1_score: {} \\n precision: {} \\n recall: {}\".format(score, precision, recall))\n",
    "    \n",
    "    return gboosting"
   ]
  },
  {
   "cell_type": "markdown",
   "metadata": {},
   "source": [
    "#### RandomForest Classifier"
   ]
  },
  {
   "cell_type": "code",
   "execution_count": 344,
   "metadata": {},
   "outputs": [],
   "source": [
    "def RandomForest(X_train, X_test, y_train, y_test, **kwargs):\n",
    "    random_forest = RandomForestClassifier(random_state=0, **kwargs)\n",
    "    random_forest.fit(X_train, y_train)\n",
    "    \n",
    "    y_preds = random_forest.predict(X_test)\n",
    "    score = 100 * f1_score(y_test, y_preds, average='weighted')\n",
    "    precision = precision_score(y_test, y_preds, average='weighted')\n",
    "    recall = recall_score(y_test, y_preds, average='weighted')\n",
    "    \n",
    "    print(\"Random Forest: \\n f1_score: {} \\n precision: {} \\n recall: {}\".format(score, precision, recall))\n",
    "        \n",
    "    return random_forest"
   ]
  },
  {
   "cell_type": "markdown",
   "metadata": {},
   "source": [
    "### Compare Model Performance"
   ]
  },
  {
   "cell_type": "code",
   "execution_count": 364,
   "metadata": {},
   "outputs": [
    {
     "name": "stdout",
     "output_type": "stream",
     "text": [
      "Logistic Regression: \n",
      " f1_score: 59.83552941475621 \n",
      " precision: 0.5870694124670549 \n",
      " recall: 0.616\n"
     ]
    }
   ],
   "source": [
    "log_reg = LogisticRegression_Classifier(X_train, X_test, y_train, y_test, **log_reg_best_params)"
   ]
  },
  {
   "cell_type": "code",
   "execution_count": 346,
   "metadata": {},
   "outputs": [
    {
     "name": "stdout",
     "output_type": "stream",
     "text": [
      "SVC: \n",
      " f1_score: 88.20604216299567 \n",
      " precision: 0.8850843279692668 \n",
      " recall: 0.8815\n"
     ]
    }
   ],
   "source": [
    "svc = SVC_Classifier(X_train, X_test, y_train, y_test)"
   ]
  },
  {
   "cell_type": "code",
   "execution_count": 347,
   "metadata": {},
   "outputs": [
    {
     "name": "stdout",
     "output_type": "stream",
     "text": [
      "Random Forest: \n",
      " f1_score: 94.46611357087853 \n",
      " precision: 0.9454312993868279 \n",
      " recall: 0.9445\n"
     ]
    }
   ],
   "source": [
    "random_forest = RandomForest(X_train, X_test, y_train, y_test)"
   ]
  },
  {
   "cell_type": "code",
   "execution_count": 372,
   "metadata": {},
   "outputs": [
    {
     "name": "stdout",
     "output_type": "stream",
     "text": [
      "KNN: \n",
      " f1_score: 72.24868176650293 \n",
      " precision: 0.7255187310988004 \n",
      " recall: 0.7215\n"
     ]
    }
   ],
   "source": [
    "knn = KNN(X_train, X_test, y_train, y_test, **knn_best_params)"
   ]
  },
  {
   "cell_type": "code",
   "execution_count": 349,
   "metadata": {},
   "outputs": [
    {
     "name": "stdout",
     "output_type": "stream",
     "text": [
      "Gradient Boosting: \n",
      " f1_score: 89.80289573992248 \n",
      " precision: 0.9011021674594452 \n",
      " recall: 0.8975\n"
     ]
    }
   ],
   "source": [
    "gboosting = GradientBoosting(X_train, X_test, y_train, y_test)"
   ]
  },
  {
   "cell_type": "code",
   "execution_count": 350,
   "metadata": {},
   "outputs": [
    {
     "name": "stdout",
     "output_type": "stream",
     "text": [
      "Decision Tree: \n",
      " f1_score: 93.0969096405773 \n",
      " precision: 0.9310315670453396 \n",
      " recall: 0.931\n"
     ]
    }
   ],
   "source": [
    "decision_tree = DecisionTree(X_train, X_test, y_train, y_test)"
   ]
  },
  {
   "cell_type": "markdown",
   "metadata": {},
   "source": [
    "### Hyperparameter Tuning with GridSearchCV"
   ]
  },
  {
   "cell_type": "code",
   "execution_count": 351,
   "metadata": {},
   "outputs": [],
   "source": [
    "# Use GridSearchCV to tune the decision tree classifier\n",
    "from sklearn.model_selection import GridSearchCV\n",
    "\n",
    "def tuneHyperparams(estimator, X_train, y_train, params):\n",
    "    grid_search = GridSearchCV(estimator, param_grid=params, n_jobs=4, verbose=1, cv=5, scoring='f1_weighted')\n",
    "    grid_search.fit(X_train, y_train)\n",
    "    \n",
    "    return grid_search"
   ]
  },
  {
   "cell_type": "markdown",
   "metadata": {},
   "source": [
    "#### Tune Logistic Regression hyperparams"
   ]
  },
  {
   "cell_type": "code",
   "execution_count": 352,
   "metadata": {},
   "outputs": [
    {
     "name": "stdout",
     "output_type": "stream",
     "text": [
      "Fitting 5 folds for each of 3600 candidates, totalling 18000 fits\n"
     ]
    },
    {
     "name": "stderr",
     "output_type": "stream",
     "text": [
      "[Parallel(n_jobs=4)]: Using backend LokyBackend with 4 concurrent workers.\n",
      "[Parallel(n_jobs=4)]: Done  52 tasks      | elapsed:    2.8s\n",
      "[Parallel(n_jobs=4)]: Done 1184 tasks      | elapsed:   18.3s\n",
      "[Parallel(n_jobs=4)]: Done 3184 tasks      | elapsed:   48.3s\n",
      "[Parallel(n_jobs=4)]: Done 5984 tasks      | elapsed:  1.5min\n",
      "[Parallel(n_jobs=4)]: Done 9584 tasks      | elapsed:  2.5min\n",
      "[Parallel(n_jobs=4)]: Done 13984 tasks      | elapsed:  3.8min\n",
      "[Parallel(n_jobs=4)]: Done 17816 tasks      | elapsed:  5.2min\n",
      "[Parallel(n_jobs=4)]: Done 18000 out of 18000 | elapsed:  5.2min finished\n"
     ]
    }
   ],
   "source": [
    "log_reg_CV = tuneHyperparams(log_reg, X_train, y_train, {\"penalty\": ['l1','l2', 'elasticnet'],\n",
    "                                            \"C\": np.logspace(-2, 2, 10),\n",
    "                                           \"solver\" : ['newton-cg', 'lbfgs', 'liblinear', 'sag', 'saga'],\n",
    "                                           \"max_iter\": range(0, 200, 50),\n",
    "                                            \"fit_intercept\": [True, False],\n",
    "                                           \"multi_class\": ['auto', 'ovr', 'multinomial']})\n",
    "\n",
    "log_reg_best_params = log_reg_CV.best_params_"
   ]
  },
  {
   "cell_type": "code",
   "execution_count": 368,
   "metadata": {},
   "outputs": [
    {
     "name": "stdout",
     "output_type": "stream",
     "text": [
      "Fitting 5 folds for each of 36 candidates, totalling 180 fits\n"
     ]
    },
    {
     "name": "stderr",
     "output_type": "stream",
     "text": [
      "[Parallel(n_jobs=4)]: Using backend LokyBackend with 4 concurrent workers.\n",
      "[Parallel(n_jobs=4)]: Done  42 tasks      | elapsed:   13.9s\n",
      "[Parallel(n_jobs=4)]: Done 180 out of 180 | elapsed:   43.6s finished\n"
     ]
    }
   ],
   "source": [
    "knn_CV = tuneHyperparams(knn, X_train, y_train, {\"n_neighbors\": range(5,11),\n",
    "                                                          \"weights\": ['uniform', 'distance'],\n",
    "                                                          \"algorithm\": ['ball_tree', 'kd_tree', 'brute']})\n",
    "\n",
    "knn_best_params = knn_CV.best_params_"
   ]
  },
  {
   "cell_type": "code",
   "execution_count": 369,
   "metadata": {},
   "outputs": [
    {
     "data": {
      "text/plain": [
       "{'algorithm': 'ball_tree', 'n_neighbors': 10, 'weights': 'distance'}"
      ]
     },
     "execution_count": 369,
     "metadata": {},
     "output_type": "execute_result"
    }
   ],
   "source": [
    "knn_best_params"
   ]
  },
  {
   "cell_type": "markdown",
   "metadata": {},
   "source": [
    "#### Since most algorithms have a good f1_score, lets try feature selection to see if the models improve"
   ]
  },
  {
   "cell_type": "code",
   "execution_count": 404,
   "metadata": {},
   "outputs": [],
   "source": [
    "from sklearn.feature_selection import RFECV, SelectKBest\n",
    "\n",
    "accidents_cols = accidents.drop('Severity', axis=1).columns\n",
    "\n",
    "def featureSelect(estimator, X_train, y_train):\n",
    "    rfecv = RFECV(estimator=estimator, cv=5, scoring='f1_weighted', verbose=1, n_jobs=4)\n",
    "    rfecv.fit(X_train, y_train)\n",
    "    \n",
    "    selected = rfecv.support_\n",
    "    \n",
    "    print(\"Selected columns: \", accidents.drop('Severity', axis=1).columns[selected])\n",
    "    print(\"Removed columns: \",accidents.drop('Severity', axis=1).columns[~selected])\n",
    "    \n",
    "    return rfecv"
   ]
  },
  {
   "cell_type": "markdown",
   "metadata": {},
   "source": [
    "#### Best Features: Random Forest"
   ]
  },
  {
   "cell_type": "code",
   "execution_count": 406,
   "metadata": {},
   "outputs": [
    {
     "name": "stdout",
     "output_type": "stream",
     "text": [
      "Fitting estimator with 10 features.\n",
      "Fitting estimator with 9 features.\n",
      "Fitting estimator with 8 features.\n",
      "Fitting estimator with 7 features.\n",
      "Fitting estimator with 6 features.\n",
      "Fitting estimator with 5 features.\n",
      "Fitting estimator with 4 features.\n",
      "Selected columns:  Index(['Safety_Score', 'Days_Since_Inspection', 'Control_Metric'], dtype='object')\n",
      "Removed columns:  Index(['Total_Safety_Complaints', 'Turbulence_In_gforces', 'Cabin_Temperature',\n",
      "       'Accident_Type_Code', 'Max_Elevation', 'Violations',\n",
      "       'Adverse_Weather_Metric'],\n",
      "      dtype='object')\n"
     ]
    }
   ],
   "source": [
    "random_forest_rfecv = featureSelect(random_forest, X_train, y_train)"
   ]
  },
  {
   "cell_type": "markdown",
   "metadata": {},
   "source": [
    "#### Best Features: Gradient Boosting"
   ]
  },
  {
   "cell_type": "code",
   "execution_count": 411,
   "metadata": {},
   "outputs": [
    {
     "name": "stdout",
     "output_type": "stream",
     "text": [
      "Fitting estimator with 10 features.\n",
      "Fitting estimator with 9 features.\n",
      "Fitting estimator with 8 features.\n",
      "Fitting estimator with 7 features.\n",
      "Fitting estimator with 6 features.\n",
      "Fitting estimator with 5 features.\n",
      "Fitting estimator with 4 features.\n",
      "Selected columns:  Index(['Safety_Score', 'Days_Since_Inspection', 'Control_Metric'], dtype='object')\n",
      "Removed columns:  Index(['Total_Safety_Complaints', 'Turbulence_In_gforces', 'Cabin_Temperature',\n",
      "       'Accident_Type_Code', 'Max_Elevation', 'Violations',\n",
      "       'Adverse_Weather_Metric'],\n",
      "      dtype='object')\n"
     ]
    }
   ],
   "source": [
    "gboosting_rfecv = featureSelect(gboosting, X_train, y_train)"
   ]
  },
  {
   "cell_type": "markdown",
   "metadata": {},
   "source": [
    "#### Best Features: Decision Trees"
   ]
  },
  {
   "cell_type": "code",
   "execution_count": 412,
   "metadata": {
    "scrolled": true
   },
   "outputs": [
    {
     "name": "stdout",
     "output_type": "stream",
     "text": [
      "Fitting estimator with 10 features.\n",
      "Fitting estimator with 9 features.\n",
      "Fitting estimator with 8 features.\n",
      "Fitting estimator with 7 features.\n",
      "Fitting estimator with 6 features.\n",
      "Fitting estimator with 5 features.\n",
      "Fitting estimator with 4 features.\n",
      "Selected columns:  Index(['Safety_Score', 'Days_Since_Inspection', 'Control_Metric'], dtype='object')\n",
      "Removed columns:  Index(['Total_Safety_Complaints', 'Turbulence_In_gforces', 'Cabin_Temperature',\n",
      "       'Accident_Type_Code', 'Max_Elevation', 'Violations',\n",
      "       'Adverse_Weather_Metric'],\n",
      "      dtype='object')\n"
     ]
    }
   ],
   "source": [
    "decision_tree_rfecv = featureSelect(decision_tree, X_train, y_train)"
   ]
  },
  {
   "cell_type": "markdown",
   "metadata": {},
   "source": [
    "### Slice 'Safety_Score','Days_Since_Inspection' and 'Control_Metric' since they are the features with the most influence on the Severity and retrain the models"
   ]
  },
  {
   "cell_type": "code",
   "execution_count": 420,
   "metadata": {},
   "outputs": [],
   "source": [
    "best_accidents = accidents[['Safety_Score', 'Days_Since_Inspection', 'Control_Metric']]"
   ]
  },
  {
   "cell_type": "markdown",
   "metadata": {},
   "source": [
    "#### # Split the data into train and test and retrain the best performing models"
   ]
  },
  {
   "cell_type": "code",
   "execution_count": 421,
   "metadata": {},
   "outputs": [],
   "source": [
    "new_X = best_accidents\n",
    "new_y = accidents['Severity']\n",
    "\n",
    "new_X_train, new_X_test, new_y_train, new_y_test = train_test_split(X, y, test_size=0.2, random_state=0)"
   ]
  },
  {
   "cell_type": "code",
   "execution_count": 425,
   "metadata": {},
   "outputs": [
    {
     "name": "stdout",
     "output_type": "stream",
     "text": [
      "Decision Tree: \n",
      " f1_score: 92.2559043562361 \n",
      " precision: 0.9227410889402384 \n",
      " recall: 0.9225\n"
     ]
    }
   ],
   "source": [
    "# Decision Tree\n",
    "new_decision_tree = DecisionTree(new_X_train, new_X_test, new_y_train, new_y_test,)"
   ]
  },
  {
   "cell_type": "code",
   "execution_count": 426,
   "metadata": {},
   "outputs": [
    {
     "name": "stdout",
     "output_type": "stream",
     "text": [
      "Random Forest: \n",
      " f1_score: 94.10705846837804 \n",
      " precision: 0.9415414836972803 \n",
      " recall: 0.941\n"
     ]
    }
   ],
   "source": [
    "# Random Forest\n",
    "new_random_forest = RandomForest(new_X_train, new_X_test, new_y_train, new_y_test)"
   ]
  },
  {
   "cell_type": "code",
   "execution_count": 427,
   "metadata": {},
   "outputs": [
    {
     "name": "stdout",
     "output_type": "stream",
     "text": [
      "Gradient Boosting: \n",
      " f1_score: 87.79144486009555 \n",
      " precision: 0.8830298361930042 \n",
      " recall: 0.877\n"
     ]
    }
   ],
   "source": [
    "# Gradient Boosting\n",
    "new_gboosting = GradientBoosting(new_X_train, new_X_test, new_y_train, new_y_test)"
   ]
  },
  {
   "cell_type": "markdown",
   "metadata": {},
   "source": [
    "### Polynomial Features"
   ]
  },
  {
   "cell_type": "code",
   "execution_count": 431,
   "metadata": {},
   "outputs": [],
   "source": [
    "from sklearn.preprocessing import PolynomialFeatures"
   ]
  },
  {
   "cell_type": "code",
   "execution_count": 433,
   "metadata": {},
   "outputs": [],
   "source": [
    "poly = PolynomialFeatures(degree=3)\n",
    "accidents_poly = poly.fit_transform(best_accidents)"
   ]
  },
  {
   "cell_type": "code",
   "execution_count": 435,
   "metadata": {},
   "outputs": [],
   "source": [
    "poly_X = accidents_poly\n",
    "poly_y = accidents['Severity']\n",
    "\n",
    "poly_X_train, poly_X_test, poly_y_train, poly_y_test = train_test_split(poly_X, poly_y, test_size=0.2, random_state=0)"
   ]
  },
  {
   "cell_type": "code",
   "execution_count": 436,
   "metadata": {},
   "outputs": [
    {
     "name": "stdout",
     "output_type": "stream",
     "text": [
      "Decision Tree: \n",
      " f1_score: 95.49714961614751 \n",
      " precision: 0.95502656311576 \n",
      " recall: 0.955\n"
     ]
    }
   ],
   "source": [
    "poly_decision_tree = DecisionTree(poly_X_train, poly_X_test, poly_y_train, poly_y_test )"
   ]
  },
  {
   "cell_type": "code",
   "execution_count": 437,
   "metadata": {},
   "outputs": [
    {
     "name": "stdout",
     "output_type": "stream",
     "text": [
      "Gradient Boosting: \n",
      " f1_score: 94.85132948787938 \n",
      " precision: 0.9487796405806314 \n",
      " recall: 0.9485\n"
     ]
    }
   ],
   "source": [
    "poly_gboosting = GradientBoosting(poly_X_train, poly_X_test, poly_y_train, poly_y_test )"
   ]
  },
  {
   "cell_type": "code",
   "execution_count": 438,
   "metadata": {},
   "outputs": [
    {
     "name": "stdout",
     "output_type": "stream",
     "text": [
      "Random Forest: \n",
      " f1_score: 96.1975062502532 \n",
      " precision: 0.9620618138941615 \n",
      " recall: 0.962\n"
     ]
    }
   ],
   "source": [
    "poly_random_forest = RandomForest(poly_X_train, poly_X_test, poly_y_train, poly_y_test )"
   ]
  },
  {
   "cell_type": "markdown",
   "metadata": {},
   "source": [
    "### Check model accuracy using the test dataset"
   ]
  },
  {
   "cell_type": "code",
   "execution_count": 358,
   "metadata": {},
   "outputs": [],
   "source": [
    "accidents_test = pd.read_csv('C:\\\\Users\\\\Kelvin Kinda\\\\Downloads\\\\Hackerearth_dataset\\\\test.csv')"
   ]
  },
  {
   "cell_type": "code",
   "execution_count": 1,
   "metadata": {},
   "outputs": [],
   "source": [
    "def writeToFile(model, test_data, model_name):\n",
    "    IDs = test_data['Accident_ID']\n",
    "    test = test_data.drop(\"Accident_ID\", axis=1)\n",
    "#     test = StandardScaler().fit_transform(test)\n",
    "\n",
    "    test = test[['Safety_Score', 'Days_Since_Inspection', 'Control_Metric']]\n",
    "    test = poly.fit_transform(test)\n",
    "\n",
    "    preds = model.predict(test)\n",
    "    pd.DataFrame({\"Accident_ID\" : IDs, \"Severity\" : preds}).to_csv(model_name + '_submission.csv',index=False)"
   ]
  },
  {
   "cell_type": "code",
   "execution_count": 2,
   "metadata": {},
   "outputs": [
    {
     "ename": "NameError",
     "evalue": "name 'poly_random_forest' is not defined",
     "output_type": "error",
     "traceback": [
      "\u001b[1;31m---------------------------------------------------------------------------\u001b[0m",
      "\u001b[1;31mNameError\u001b[0m                                 Traceback (most recent call last)",
      "\u001b[1;32m<ipython-input-2-7791798bb93a>\u001b[0m in \u001b[0;36m<module>\u001b[1;34m()\u001b[0m\n\u001b[1;32m----> 1\u001b[1;33m \u001b[0mwriteToFile\u001b[0m\u001b[1;33m(\u001b[0m\u001b[0mpoly_random_forest\u001b[0m\u001b[1;33m,\u001b[0m \u001b[0maccidents_test\u001b[0m\u001b[1;33m,\u001b[0m \u001b[1;34m\"Random_Forest_poly\"\u001b[0m\u001b[1;33m)\u001b[0m\u001b[1;33m\u001b[0m\u001b[0m\n\u001b[0m",
      "\u001b[1;31mNameError\u001b[0m: name 'poly_random_forest' is not defined"
     ]
    }
   ],
   "source": [
    "writeToFile(poly_random_forest, accidents_test, \"Random_Forest_poly\")"
   ]
  },
  {
   "cell_type": "code",
   "execution_count": 441,
   "metadata": {},
   "outputs": [],
   "source": [
    "writeToFile(poly_decision_tree, accidents_test, \"Decision_Tree_poly\")"
   ]
  },
  {
   "cell_type": "code",
   "execution_count": 442,
   "metadata": {},
   "outputs": [],
   "source": [
    "writeToFile(poly_gboosting, accidents_test, \"Gradient_Boosting_poly\")"
   ]
  },
  {
   "cell_type": "code",
   "execution_count": null,
   "metadata": {},
   "outputs": [],
   "source": []
  }
 ],
 "metadata": {
  "kernelspec": {
   "display_name": "Python 3",
   "language": "python",
   "name": "python3"
  },
  "language_info": {
   "codemirror_mode": {
    "name": "ipython",
    "version": 3
   },
   "file_extension": ".py",
   "mimetype": "text/x-python",
   "name": "python",
   "nbconvert_exporter": "python",
   "pygments_lexer": "ipython3",
   "version": "3.6.4"
  }
 },
 "nbformat": 4,
 "nbformat_minor": 2
}
